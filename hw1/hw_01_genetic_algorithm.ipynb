{
  "nbformat": 4,
  "nbformat_minor": 0,
  "metadata": {
    "colab": {
      "name": "hw_1_genetic_algorithm.ipynb",
      "provenance": [],
      "collapsed_sections": []
    },
    "kernelspec": {
      "name": "python3",
      "display_name": "Python 3"
    },
    "language_info": {
      "name": "python"
    }
  },
  "cells": [
    {
      "cell_type": "markdown",
      "metadata": {
        "id": "G_jDre2Kcz4o"
      },
      "source": [
        "**Домашнее задание:**\n",
        "\n",
        "Вам необходимо определить дисперсию случайной величины ${\\displaystyle X = \\sum _{i=1}^{n}X_{i}\\sim \\operatorname {B} (n,p)}$, где ${X_i = 1}$ с вероятностью $p$ и $0$ - с вероятностью $1-p$, причем ${\\displaystyle \\text{corr}(X_i, X_j)=\\text{R} \\ \\forall \\ i \\neq j}$.\n",
        "Для этого подготовьте код в питоне с генетическим\" (подстраивающимся) алгоритмом генерации вектора ${\\displaystyle (X_1, X_2 \\dots X_n)}$ с общим числом реализаций $m$. Соответственно, число единиц в каждом столбце должно быть целочисленным и равно $k = p \\cdot m$.\n",
        "\n",
        "Возможная идея алгоритма:\n",
        "1. случайно выбирается столбец и две строки в векторе ${\\displaystyle (X_1, X_2 \\dots X_n)}$ \n",
        "2. значения на пересечении выбранных строк и столбца меняются местами\n",
        "3. если замена значений приближает корреляционную матрицу к целевой, замену сохраняем. Иначе - пробуем иную. \n",
        "Под целевой корреляционной матрицей понимаем такую, где все элементы равны R, кроме главной диагонали.\n",
        "\n",
        "Алгоритм должен работать при любых комбинациях - **p, R, n, m**. \n",
        "Работать - значит, запускаться без изменения иных параметров, кроме четырех указанных. При этом работать - не означает сходиться, т.к. определенная комбинация **p, R, n** может быть недостижима.\n",
        "\n",
        "Для проверки дополнительно сообщу Вам набор параметров - **p, R, n, m**, для которых необходимо вместе с кодом указать величину $\\text{Var}(X)$.\n",
        "\n",
        "**Параметры для задания:**\n",
        "- **p** = 4 %\n",
        "- **R** = 1 %\n",
        "- **n** = 100\n",
        "- **m** = 200\n",
        "\n",
        "**Комментарии по вопросам:**\n",
        "1. да, набор параметров один для всех.\n",
        "2. загружайте файл ipynb с запущенными командами (т.е. в блокноте виден результат их выполнения), в конце кода ожидаю увидеть два элемента:\n",
        "- график плотности (гистограмму) распределения ${\\displaystyle X = \\sum {X_i}}$ для подобранной матрицы.\n",
        "- оценку дисперсии полученного ${\\displaystyle X = \\sum {X_i}}$\n",
        "Если при разработке кода Вы поняли, что на отдельных развилках нужно использовать одно, а не другое,\n",
        "перечислите такие решения в первых строках кода. \n",
        "    - Например: \\# 1. сравнение матриц через максимальную разницу не работает, поэтому заложено сравнение всех элементов через меру ${\\displaystyle \\rm {MAE/RMSE/}}$(иное?)\n",
        "3. критерий приемки:\n",
        "в файле есть код, есть график и оценка дисперсии.\n",
        "открываю файл, могу поменять параметры (из четырех), запускаю; если считается и выдает ожидаемый результат, зачет.\n",
        "дифференциацию по баллам планирую сделать по тому, насколько оптимальна/интересна логика алгоритма.\n",
        "4. Да, можно использовать стандартные функции (сумма, среднее, корреляция).\n",
        "Расписывать их расчет через формулы не требуется.\n"
      ]
    },
    {
      "cell_type": "markdown",
      "metadata": {
        "id": "uw2Xt7UJPrrG"
      },
      "source": [
        "## **Importing packages, preparing data**"
      ]
    },
    {
      "cell_type": "code",
      "metadata": {
        "id": "Hgkd1C1W74lI"
      },
      "source": [
        "import pandas as pd\n",
        "import numpy as np\n",
        "from numpy.random import randint\n",
        "from sklearn.metrics import mean_squared_error\n",
        "\n",
        "import matplotlib.pyplot as plt\n",
        "import seaborn as sns\n",
        "%matplotlib inline\n",
        "\n",
        "sns.set_style({\"font.family\": \"serif\"})"
      ],
      "execution_count": 1,
      "outputs": []
    },
    {
      "cell_type": "markdown",
      "metadata": {
        "id": "JQYYN3M8a0-x"
      },
      "source": [
        "Initialize the input parameters"
      ]
    },
    {
      "cell_type": "code",
      "metadata": {
        "id": "d5yqovGlcfjf"
      },
      "source": [
        "p = 0.04\n",
        "R = 0.01\n",
        "n = 100\n",
        "m = 200"
      ],
      "execution_count": 2,
      "outputs": []
    },
    {
      "cell_type": "markdown",
      "metadata": {
        "id": "bdVKI4fdLtKx"
      },
      "source": [
        "**Target correlation matrix** with **```1```** on main diagonal and **```R```** in other cells"
      ]
    },
    {
      "cell_type": "code",
      "metadata": {
        "colab": {
          "base_uri": "https://localhost:8080/"
        },
        "id": "kD3nq0inHCHH",
        "outputId": "01a2fcf8-bf1b-4fcd-c77f-f362ad209cfb"
      },
      "source": [
        "target_corr_matrix = np.full((n, n), R)\n",
        "np.fill_diagonal(target_corr_matrix, 1)\n",
        "target_corr_matrix"
      ],
      "execution_count": 3,
      "outputs": [
        {
          "output_type": "execute_result",
          "data": {
            "text/plain": [
              "array([[1.  , 0.01, 0.01, ..., 0.01, 0.01, 0.01],\n",
              "       [0.01, 1.  , 0.01, ..., 0.01, 0.01, 0.01],\n",
              "       [0.01, 0.01, 1.  , ..., 0.01, 0.01, 0.01],\n",
              "       ...,\n",
              "       [0.01, 0.01, 0.01, ..., 1.  , 0.01, 0.01],\n",
              "       [0.01, 0.01, 0.01, ..., 0.01, 1.  , 0.01],\n",
              "       [0.01, 0.01, 0.01, ..., 0.01, 0.01, 1.  ]])"
            ]
          },
          "metadata": {},
          "execution_count": 3
        }
      ]
    },
    {
      "cell_type": "markdown",
      "metadata": {
        "id": "n9qYRPNAEIiD"
      },
      "source": [
        "Matrix with random variables in columns. \n",
        "\n",
        "* ${\\displaystyle (X_1, X_2...X_n)}$\n",
        "* shape = (m, n)"
      ]
    },
    {
      "cell_type": "code",
      "metadata": {
        "id": "E8OJsGW4cvBu"
      },
      "source": [
        "k = int(p * m) # ones rows size\n",
        "ones = np.ones(n * k, dtype=np.int32).reshape((k, n))\n",
        "zeros = np.zeros(n * (m - k), dtype=np.int32).reshape((m - k, n))\n",
        "assert ones.shape == (k, n) and zeros.shape == (m - k, n)\n",
        "\n",
        "X = np.vstack((ones, zeros))\n",
        "assert X.shape == (m, n)"
      ],
      "execution_count": 4,
      "outputs": []
    },
    {
      "cell_type": "markdown",
      "metadata": {
        "id": "xHfRnW_zQOpt"
      },
      "source": [
        "## **Running tests on our data: genetic algorithm**"
      ]
    },
    {
      "cell_type": "markdown",
      "metadata": {
        "id": "zsk3c5xcz4sL"
      },
      "source": [
        "**RMSE** - loss function"
      ]
    },
    {
      "cell_type": "code",
      "metadata": {
        "id": "vvOpGWCp-3Vq"
      },
      "source": [
        "def rmse(X_true: np.ndarray, X: np.ndarray) -> float:\n",
        "    # Each row of X represents a variable, \n",
        "    # and each column a single observation of all those variables\n",
        "    corr_matrix = np.corrcoef(X, rowvar=False)\n",
        "    target_corrs_flat = []\n",
        "    corrs_flat = []\n",
        "    for i in range(X.shape[0]):\n",
        "        for j in range (i + 1, X.shape[1]):\n",
        "            target_corrs_flat.append(target_corr_matrix[i][j])\n",
        "            corrs_flat.append(corr_matrix[i][j])\n",
        "\n",
        "    return np.sqrt(mean_squared_error(target_corrs_flat, corrs_flat))"
      ],
      "execution_count": 5,
      "outputs": []
    },
    {
      "cell_type": "code",
      "metadata": {
        "colab": {
          "base_uri": "https://localhost:8080/"
        },
        "id": "Zr3KybcwFFPF",
        "outputId": "ab441867-7127-482f-c114-1d3eebd6d20a"
      },
      "source": [
        "print(\"RMSE before applying the genetic algorithm:\", rmse(target_corr_matrix, X))"
      ],
      "execution_count": 6,
      "outputs": [
        {
          "output_type": "stream",
          "name": "stdout",
          "text": [
            "RMSE before applying the genetic algorithm: 0.9900000000000001\n"
          ]
        }
      ]
    },
    {
      "cell_type": "markdown",
      "metadata": {
        "id": "GuDFzRSpeqKf"
      },
      "source": [
        "**Run the genetic algorithm**"
      ]
    },
    {
      "cell_type": "code",
      "metadata": {
        "colab": {
          "base_uri": "https://localhost:8080/",
          "height": 488
        },
        "id": "WsBCklbtG_Bz",
        "outputId": "cfd11e97-4baa-467e-b753-b6e1196d5eb6"
      },
      "source": [
        "from IPython.display import clear_output\n",
        "\n",
        "class LoggingCallback:\n",
        "    \"\"\"\n",
        "    Класс для логирования шагов генетического алгоритма. \n",
        "    Сохраняет точку (iter_cnt, loss) на каждом шаге.\n",
        "    Пример использования в коде: callback(iter_cnt, loss)\n",
        "    \"\"\"\n",
        "    def __init__(self):\n",
        "        self.iter_steps = []\n",
        "        self.loss_steps = []\n",
        "\n",
        "    def __call__(self, iter, loss):\n",
        "        self.iter_steps.append(iter)\n",
        "        self.loss_steps.append(loss)\n",
        "\n",
        "\n",
        "def swap(X, col_idx: int, row_idx_1: int, row_idx_2: int) -> None:\n",
        "    X[row_idx_1][col_idx], X[row_idx_2][col_idx] = (\n",
        "        X[row_idx_2][col_idx],\n",
        "        X[row_idx_1][col_idx],\n",
        "    )\n",
        "\n",
        "\n",
        "callback = LoggingCallback() \n",
        "\n",
        "loss_val = rmse(target_corr_matrix, X)\n",
        "tol = 1e-5 # минимальное отклонение, при котором итерации продолжаются \n",
        "maxiter = 2000 # максимальное допустимое число итераций\n",
        "iter_cnt = 0 # номер текущей итерации\n",
        "while loss_val > tol and iter_cnt < maxiter:\n",
        "\n",
        "    col_idx = randint(n)\n",
        "    row_idx_1 = randint(0, k)\n",
        "    row_idx_2 = randint(k, m)\n",
        "    while row_idx_1 == row_idx_2:\n",
        "        row_idx_1 = randint(0, k)\n",
        "        row_idx_2 = randint(k, m)\n",
        "\n",
        "    # To get corr_matrix similar to true correlation matrix,\n",
        "    # we need to minimize the loss function\n",
        "    swap(X, col_idx, row_idx_1, row_idx_2)\n",
        "    new_loss = rmse(target_corr_matrix, X)\n",
        "    if new_loss < loss_val:\n",
        "        loss_val = new_loss\n",
        "    else:\n",
        "        swap(X, col_idx, row_idx_1, row_idx_2)\n",
        "\n",
        "    callback(iter_cnt, loss_val) # Не забываем про логирование\n",
        "\n",
        "    iter_cnt += 1\n",
        "\n",
        "    # the rest of code is just bells and whistles\n",
        "    if (iter_cnt) % 100 == 0:\n",
        "        clear_output(True)\n",
        "        fig = plt.figure(figsize=(15, 7), facecolor='w', edgecolor='k')\n",
        "\n",
        "        plt.scatter(x=callback.iter_steps, \n",
        "                    y=callback.loss_steps, \n",
        "                    color='firebrick', alpha=0.7, linestyle=\"-.\")\n",
        "        # Decorations\n",
        "        plt.title(\"Genetic algorithm steps plot\", fontsize=25, pad=10)\n",
        "        plt.xlim((0, iter_cnt)); plt.ylim((0, 1))\n",
        "        plt.xlabel(\"Iteration number\", fontsize=18, labelpad=10)\n",
        "        plt.ylabel(\"RMSE value\", fontsize=18, labelpad=10)\n",
        "        plt.xticks(fontsize=14); plt.yticks(fontsize=14)\n",
        "        plt.grid()\n",
        "        plt.show()"
      ],
      "execution_count": 7,
      "outputs": [
        {
          "output_type": "display_data",
          "data": {
            "image/png": "[encoded data removed]",
            "text/plain": [
              "<Figure size 1080x504 with 1 Axes>"
            ]
          },
          "metadata": {}
        }
      ]
    },
    {
      "cell_type": "markdown",
      "metadata": {
        "id": "q37hwCdL0y6k"
      },
      "source": [
        "Let's look at the resulting correlation matrix of random variables after applying the genetic algorithm"
      ]
    },
    {
      "cell_type": "code",
      "metadata": {
        "colab": {
          "base_uri": "https://localhost:8080/"
        },
        "id": "-1cNJpd10ZqW",
        "outputId": "03e05786-0654-4297-8115-c30f703f1dc8"
      },
      "source": [
        "target_corr_matrix"
      ],
      "execution_count": 8,
      "outputs": [
        {
          "output_type": "execute_result",
          "data": {
            "text/plain": [
              "array([[1.  , 0.01, 0.01, ..., 0.01, 0.01, 0.01],\n",
              "       [0.01, 1.  , 0.01, ..., 0.01, 0.01, 0.01],\n",
              "       [0.01, 0.01, 1.  , ..., 0.01, 0.01, 0.01],\n",
              "       ...,\n",
              "       [0.01, 0.01, 0.01, ..., 1.  , 0.01, 0.01],\n",
              "       [0.01, 0.01, 0.01, ..., 0.01, 1.  , 0.01],\n",
              "       [0.01, 0.01, 0.01, ..., 0.01, 0.01, 1.  ]])"
            ]
          },
          "metadata": {},
          "execution_count": 8
        }
      ]
    },
    {
      "cell_type": "code",
      "metadata": {
        "colab": {
          "base_uri": "https://localhost:8080/"
        },
        "id": "MxszZkIy0DQD",
        "outputId": "d8aa925d-15f5-4454-f81b-1552c933000a"
      },
      "source": [
        "np.corrcoef(X, rowvar=False)"
      ],
      "execution_count": 9,
      "outputs": [
        {
          "output_type": "execute_result",
          "data": {
            "text/plain": [
              "array([[ 1.        ,  0.08854167, -0.04166667, ..., -0.04166667,\n",
              "        -0.04166667,  0.21875   ],\n",
              "       [ 0.08854167,  1.        ,  0.08854167, ..., -0.04166667,\n",
              "        -0.04166667, -0.04166667],\n",
              "       [-0.04166667,  0.08854167,  1.        , ...,  0.08854167,\n",
              "         0.08854167, -0.04166667],\n",
              "       ...,\n",
              "       [-0.04166667, -0.04166667,  0.08854167, ...,  1.        ,\n",
              "         0.08854167, -0.04166667],\n",
              "       [-0.04166667, -0.04166667,  0.08854167, ...,  0.08854167,\n",
              "         1.        ,  0.21875   ],\n",
              "       [ 0.21875   , -0.04166667, -0.04166667, ..., -0.04166667,\n",
              "         0.21875   ,  1.        ]])"
            ]
          },
          "metadata": {},
          "execution_count": 9
        }
      ]
    },
    {
      "cell_type": "markdown",
      "metadata": {
        "id": "_2kN_OloQXSr"
      },
      "source": [
        "## **Visualizing results**"
      ]
    },
    {
      "cell_type": "markdown",
      "metadata": {
        "id": "03gOe6Kc21J1"
      },
      "source": [
        "${\\displaystyle X = \\sum _{i=1}^{n}X_{i}\\sim \\operatorname {B} (n,p)}, \\text{where} \\\\ X_i={\\begin{cases}1&p,\\\\0&q-p.\\end{cases}}$"
      ]
    },
    {
      "cell_type": "code",
      "metadata": {
        "id": "VZ5orLD_Bcv1"
      },
      "source": [
        "X_result = X.sum(axis=1)"
      ],
      "execution_count": 10,
      "outputs": []
    },
    {
      "cell_type": "code",
      "metadata": {
        "colab": {
          "base_uri": "https://localhost:8080/",
          "height": 494
        },
        "id": "Y_9j7mLO1T-k",
        "outputId": "1270bde4-b091-4c09-a5be-c2ca4ec4a937"
      },
      "source": [
        "sns.set(style=\"darkgrid\", font_scale=1.3)\n",
        "sns.set_style({\"font.family\": \"serif\"})\n",
        "fig = plt.figure(figsize=(15,7))\n",
        "plt.title(r\"$X \\sim \\operatorname {B} (n,p)$ distribution\", fontsize = 25, pad=10)\n",
        "plt.xlabel(\"number of successes\", fontsize=18, labelpad=10)\n",
        "plt.ylabel('probability', fontsize=18, labelpad=10)\n",
        "plt.xticks(fontsize=14)\n",
        "plt.yticks(fontsize=14)\n",
        "sns.histplot(data=X_result, stat=\"proportion\", discrete=True, \n",
        "                alpha=0.7, \n",
        "                color=\"xkcd:azure\", \n",
        "                edgecolor=\"black\")\n",
        "plt.show()"
      ],
      "execution_count": 16,
      "outputs": [
        {
          "output_type": "display_data",
          "data": {
            "image/png": "[encoded data removed]",
            "text/plain": [
              "<Figure size 1080x504 with 1 Axes>"
            ]
          },
          "metadata": {}
        }
      ]
    },
    {
      "cell_type": "code",
      "metadata": {
        "colab": {
          "base_uri": "https://localhost:8080/"
        },
        "id": "OuUra9eR6xiA",
        "outputId": "2084f8e7-8cf1-4a7f-e4a6-c3689db4037a"
      },
      "source": [
        "np.var(X_result)"
      ],
      "execution_count": 14,
      "outputs": [
        {
          "output_type": "execute_result",
          "data": {
            "text/plain": [
              "4.57"
            ]
          },
          "metadata": {},
          "execution_count": 14
        }
      ]
    }
  ]
}